{
 "cells": [
  {
   "cell_type": "code",
   "execution_count": 14,
   "metadata": {},
   "outputs": [],
   "source": [
    "import librosa\n",
    "import numpy as np\n",
    "import os\n",
    "import math\n",
    "from sklearn.cluster import KMeans\n",
    "import hmmlearn.hmm"
   ]
  },
  {
   "cell_type": "code",
   "execution_count": 15,
   "metadata": {},
   "outputs": [],
   "source": [
    "def get_mfcc(file_path):\n",
    "    y, sr = librosa.load(file_path) # read .wav file\n",
    "    hop_length = math.floor(sr*0.010) # 10ms hop\n",
    "    win_length = math.floor(sr*0.025) # 25ms frame\n",
    "    # mfcc is 12 x T matrix\n",
    "    mfcc = librosa.feature.mfcc(\n",
    "        y, sr, n_mfcc=12, n_fft=1024,\n",
    "        hop_length=hop_length, win_length=win_length)\n",
    "    # substract mean from mfcc --> normalize mfcc\n",
    "    mfcc = mfcc - np.mean(mfcc, axis=1).reshape((-1,1)) \n",
    "    # delta feature 1st order and 2nd order\n",
    "    delta1 = librosa.feature.delta(mfcc, order=1)\n",
    "    delta2 = librosa.feature.delta(mfcc, order=2)\n",
    "    # X is 36 x T\n",
    "    X = np.concatenate([mfcc, delta1, delta2], axis=0) # O^r\n",
    "    # return T x 36 (transpose of X)\n",
    "    return X.T # hmmlearn use T x N matrix"
   ]
  },
  {
   "cell_type": "code",
   "execution_count": 16,
   "metadata": {},
   "outputs": [],
   "source": [
    "def get_class_data(data_dir):\n",
    "    files = os.listdir(data_dir)\n",
    "    mfcc = [get_mfcc(os.path.join(data_dir,f)) for f in files if f.endswith(\".wav\")]\n",
    "    return mfcc"
   ]
  },
  {
   "cell_type": "code",
   "execution_count": 17,
   "metadata": {},
   "outputs": [],
   "source": [
    "def clustering(X, n_clusters=10):\n",
    "    kmeans = KMeans(n_clusters=n_clusters, n_init=50, random_state=0, verbose=0)\n",
    "    kmeans.fit(X)\n",
    "    print(\"centers\", kmeans.cluster_centers_.shape)\n",
    "    return kmeans  "
   ]
  },
  {
   "cell_type": "code",
   "execution_count": 30,
   "metadata": {},
   "outputs": [
    {
     "name": "stdout",
     "output_type": "stream",
     "text": [
      "Load test_toi dataset\n",
      "Load test_song dataset\n",
      "Load test_truoc dataset\n",
      "Load truoc dataset\n",
      "Load song dataset\n",
      "Load toi dataset\n",
      "vectors (8874, 36)\n"
     ]
    }
   ],
   "source": [
    "class_names = [\"test_toi\", \"test_song\", \"test_truoc\", \"truoc\", \"song\", \"toi\"]\n",
    "dataset = {}\n",
    "for cname in class_names:\n",
    "    print(f\"Load {cname} dataset\")\n",
    "    dataset[cname] = get_class_data(os.path.join(\"data\", cname))\n",
    "\n",
    "# Get all vectors in the datasets\n",
    "all_vectors = np.concatenate([np.concatenate(v, axis=0) for k, v in dataset.items()], axis=0)\n",
    "print(\"vectors\", all_vectors.shape)\n",
    "# Run K-Means algorithm to get clusters\n",
    "# kmeans = clustering(all_vectors)\n",
    "# print(\"centers\", kmeans.cluster_centers_.shape)"
   ]
  },
  {
   "cell_type": "code",
   "execution_count": 31,
   "metadata": {},
   "outputs": [],
   "source": [
    "models = {}\n",
    "# for cname in class_names:\n",
    "#     class_vectors = dataset[cname]\n",
    "#     # convert all vectors to the cluster index\n",
    "#     # dataset['one'] = [O^1, ... O^R]\n",
    "#     # O^r = (c1, c2, ... ct, ... cT)\n",
    "#     # O^r size T x 1\n",
    "#     dataset[cname] = list([kmeans.predict(v).reshape(-1,1) for v in dataset[cname]])\n",
    "   "
   ]
  },
  {
   "cell_type": "code",
   "execution_count": 37,
   "metadata": {},
   "outputs": [
    {
     "name": "stdout",
     "output_type": "stream",
     "text": [
      "training class song\n",
      "(3110, 36) [25, 36, 32, 47, 31, 24, 22, 35, 54, 27, 35, 51, 34, 24, 25, 28, 17, 46, 32, 26, 31, 35, 30, 32, 28, 25, 31, 45, 30, 26, 43, 32, 45, 33, 31, 35, 41, 43, 33, 46, 32, 30, 47, 32, 47, 47, 42, 47, 41, 42, 33, 47, 36, 31, 24, 22, 36, 30, 33, 34, 32, 27, 44, 36, 45, 22, 30, 35, 31, 43, 35, 31, 54, 30, 45, 26, 25, 44, 22, 24, 17, 42, 26, 33, 42, 32, 31, 33, 43, 51] 90\n",
      "Training done 1\n"
     ]
    },
    {
     "name": "stderr",
     "output_type": "stream",
     "text": [
      "         1     -338957.6928             +nan\n",
      "         2     -332699.1586       +6258.5342\n",
      "         3     -324746.8986       +7952.2600\n",
      "         4     -308484.6964      +16262.2022\n",
      "         5     -276683.3077      +31801.3887\n",
      "         6     -276683.3077          +0.0000\n"
     ]
    }
   ],
   "source": [
    "models = {}\n",
    "class_names = [\"song\"]\n",
    "for cname in class_names:\n",
    "    # convert all vectors to the cluster index\n",
    "    # dataset['one'] = [O^1, ... O^R]\n",
    "    # O^r = (c1, c2, ... ct, ... cT)\n",
    "    # O^r size T x 1\n",
    "    hmm = hmmlearn.hmm.GMMHMM(\n",
    "        n_components=5, n_mix = 1, random_state=42, n_iter=1000, verbose=True,\n",
    "        params='mctw',\n",
    "        init_params='mc',\n",
    "#         startprob_prior = np.array([1.0,0.0,0.0,0.0,0.0]),\n",
    "#         transmat_prior = np.array([\n",
    "#             [0.7,0.3,0.0,0.0,0.0],\n",
    "#             [0.0,0.7,0.3,0.0,0.0],\n",
    "#             [0.0,0.0,0.7,0.3,0.0],\n",
    "#             [0.0,0.0,0.0,0.7,0.3],\n",
    "#             [0.0,0.0,0.0,0.0,1.0],\n",
    "#         ])\n",
    "    )\n",
    "    hmm.startprob_ = np.array([1.0,0.0,0.0,0.0,0.0])\n",
    "    hmm.transmat_ = np.array([\n",
    "            [0.7,0.3,0.0,0.0,0.0],\n",
    "            [0.0,0.7,0.3,0.0,0.0],\n",
    "            [0.0,0.0,0.7,0.3,0.0],\n",
    "            [0.0,0.0,0.0,0.7,0.3],\n",
    "            [0.0,0.0,0.0,0.0,1.0],\n",
    "        ])\n",
    "#     hmm.transmat_ += 1e-2\n",
    "#     hmm.transmat_ = hmm.transmat_ / np.sum(hmm.transmat_, axis=1)\n",
    "    if cname[:4] != 'test':\n",
    "        X = np.concatenate(dataset[cname])\n",
    "        lengths = list([len(x) for x in dataset[cname]])\n",
    "        print(\"training class\", cname)\n",
    "        print(X.shape, lengths, len(lengths))\n",
    "        hmm.fit(X)\n",
    "        models[cname] = hmm\n",
    "print(\"Training done 1\")\n",
    "# hmm1 = hmmlearn.hmm.GMMHMM(\n",
    "#     n_components=5, n_mix = 2, random_state=42, n_iter=1000, verbose=True,\n",
    "#     params='mctw',\n",
    "#     init_params='',\n",
    "# )\n",
    "# hmm1.transmat_ = hmm.transmat_\n",
    "# hmm1.startprob_ = hmm.startprob_\n",
    "# hmm1.weights_ = hmm.weights_\n",
    "# hmm1.means_ = hmm.means_\n",
    "# hmm1.covars_ = hmm.covars_\n",
    "# hmm1.fit(X, lengths=lengths)\n",
    "# print(\"Training done 2\")"
   ]
  },
  {
   "cell_type": "code",
   "execution_count": 22,
   "metadata": {},
   "outputs": [
    {
     "data": {
      "text/plain": [
       "array([[2.43718330e+03, 9.26602949e+02, 2.66054768e+02, 2.69212313e+02,\n",
       "        1.88362736e+02, 1.02127607e+02, 1.05334882e+02, 1.31055957e+02,\n",
       "        1.49145325e+02, 1.04147383e+02, 7.38235001e+01, 8.04458738e+01,\n",
       "        6.84847788e+01, 1.67670843e+01, 7.90256346e+00, 8.03588682e+00,\n",
       "        8.92182053e+00, 3.29602545e+00, 3.53970202e+00, 3.78515047e+00,\n",
       "        3.53258460e+00, 3.32976401e+00, 2.13296775e+00, 2.63761559e+00,\n",
       "        9.46506710e+00, 4.03020009e+00, 1.98675555e+00, 1.45287039e+00,\n",
       "        1.75182249e+00, 1.12205373e+00, 9.90517278e-01, 1.13218608e+00,\n",
       "        1.12219625e+00, 1.03478001e+00, 8.88112353e-01, 8.72916240e-01],\n",
       "       [2.83237951e+03, 3.02887072e+03, 5.99871419e+02, 9.05100878e+02,\n",
       "        4.85930709e+02, 2.80930336e+02, 2.72573150e+02, 3.07668843e+02,\n",
       "        1.80765169e+02, 1.44978219e+02, 1.30957314e+02, 1.52261137e+02,\n",
       "        8.61343181e+01, 1.56318047e+02, 3.20162249e+01, 4.66414941e+01,\n",
       "        2.56298781e+01, 1.15669868e+01, 1.25741155e+01, 1.26842837e+01,\n",
       "        5.87626018e+00, 4.90495918e+00, 5.14433793e+00, 5.85068892e+00,\n",
       "        3.24086964e+01, 3.98364426e+01, 8.17012752e+00, 6.69790982e+00,\n",
       "        1.24675418e+01, 4.77154647e+00, 2.59396252e+00, 3.31455853e+00,\n",
       "        2.47916299e+00, 1.61382314e+00, 2.37400908e+00, 2.02412187e+00]])"
      ]
     },
     "execution_count": 22,
     "metadata": {},
     "output_type": "execute_result"
    }
   ],
   "source": [
    "hmm.covars_[0]"
   ]
  },
  {
   "cell_type": "code",
   "execution_count": 34,
   "metadata": {},
   "outputs": [
    {
     "name": "stderr",
     "output_type": "stream",
     "text": [
      "Degenerate mixture covariance\n",
      "Degenerate mixture covariance\n",
      "Degenerate mixture covariance\n",
      "Degenerate mixture covariance\n",
      "Degenerate mixture covariance\n",
      "Degenerate mixture covariance\n",
      "Degenerate mixture covariance\n",
      "Degenerate mixture covariance\n",
      "Degenerate mixture covariance\n",
      "Degenerate mixture covariance\n"
     ]
    },
    {
     "name": "stdout",
     "output_type": "stream",
     "text": [
      "Testing\n",
      "test_truoc {'truoc': -3132.5774236055054} truoc\n",
      "test_truoc {'truoc': -1790.1516465134937} truoc\n",
      "test_truoc {'truoc': -1726.761329442435} truoc\n",
      "test_truoc {'truoc': -3462.14098017673} truoc\n",
      "test_truoc {'truoc': -1917.874224018556} truoc\n",
      "test_truoc {'truoc': -4053.297059841958} truoc\n",
      "test_truoc {'truoc': -3296.748601708219} truoc\n",
      "test_truoc {'truoc': -3721.482881733827} truoc\n",
      "test_truoc {'truoc': -2965.1289551416603} truoc\n",
      "test_truoc {'truoc': -3991.6538108562327} truoc\n"
     ]
    }
   ],
   "source": [
    "print(\"Testing\")\n",
    "miss = {}\n",
    "# test_name = { \"test_toi\", \"test_song\", \"test_truoc\", \"test_nhan_vien\", \"test_gia_dinh\"}\n",
    "test_name = {  \"test_truoc\"}\n",
    "\n",
    "for true_cname in test_name:\n",
    "    kt = 0\n",
    "    for O in dataset[true_cname]:\n",
    "        score = {cname : model.score(O, [len(O)]) for cname, model in models.items() if cname[:4] != 'test' }\n",
    "        inverse = [(value, key) for key, value in score.items()]\n",
    "        pre = max(inverse)[1]\n",
    "        print(true_cname, score, pre)\n",
    "#         print(true_cname, score)\n",
    "       \n",
    "# print(miss)"
   ]
  },
  {
   "cell_type": "code",
   "execution_count": null,
   "metadata": {},
   "outputs": [],
   "source": [
    "models"
   ]
  },
  {
   "cell_type": "code",
   "execution_count": null,
   "metadata": {},
   "outputs": [],
   "source": [
    "print(\"Testing\")\n",
    "test_name = { \"test_toi\", \"test_song\", \"test_truoc\"}\n",
    "for true_cname in test_name:\n",
    "    for O in dataset[true_cname]:\n",
    "        score = {cname : model.score(O, [len(O)]) for cname, model in models.items() if cname[:4] != 'test' }\n",
    "        inverse = [(value, key) for key, value in score.items()]\n",
    "        pre = max(inverse)[1]\n",
    "        print(true_cname, score, pre)"
   ]
  },
  {
   "cell_type": "code",
   "execution_count": null,
   "metadata": {},
   "outputs": [],
   "source": [
    "hmm"
   ]
  },
  {
   "cell_type": "code",
   "execution_count": null,
   "metadata": {},
   "outputs": [],
   "source": [
    "models = {}\n",
    "models[\"toi\"] = hmm"
   ]
  },
  {
   "cell_type": "code",
   "execution_count": null,
   "metadata": {},
   "outputs": [],
   "source": [
    "print(\"Testing\")\n",
    "test_name = { \"test_toi\", \"test_song\", \"test_truoc\"}\n",
    "for true_cname in test_name:\n",
    "    for O in dataset[true_cname]:\n",
    "        score = {cname : model.score(O, [len(O)]) for cname, model in models.items() if cname[:4] != 'test' }\n",
    "        inverse = [(value, key) for key, value in score.items()]\n",
    "        pre = max(inverse)[1]\n",
    "        print(true_cname, score, pre)"
   ]
  },
  {
   "cell_type": "code",
   "execution_count": 1,
   "metadata": {},
   "outputs": [],
   "source": [
    "def initByBakis(nStates, bakisLevel):\n",
    "        ''' init start_prob and transmat_prob by Bakis model ''' \n",
    "        startprobPrior = np.zeros(nStates)\n",
    "        startprobPrior[0 : bakisLevel - 1] = 1./ (bakisLevel - 1)\n",
    "         \n",
    "        transmatPrior = getTransmatPrior(nStates, bakisLevel)\n",
    "         \n",
    "        return startprobPrior, transmatPrior\n",
    "    \n",
    "def getTransmatPrior(nStates, bakisLevel):\n",
    "    ''' get transmat prior '''\n",
    "    transmatPrior = (1. / bakisLevel) * np.eye(nStates)\n",
    "\n",
    "    for i in range(nStates - (bakisLevel - 1)):\n",
    "        for j in range(bakisLevel - 1):\n",
    "            transmatPrior[i, i + j + 1] = 1. /  bakisLevel\n",
    "\n",
    "    for i in range(nStates - bakisLevel + 1, nStates):\n",
    "        for j in range(nStates - i -j):\n",
    "            transmatPrior[i, i + j] = 1. / (nStates - i)\n",
    "\n",
    "    return transmatPrior"
   ]
  },
  {
   "cell_type": "code",
   "execution_count": 4,
   "metadata": {},
   "outputs": [
    {
     "ename": "TypeError",
     "evalue": "initByBakis() missing 1 required positional argument: 'self'",
     "output_type": "error",
     "traceback": [
      "\u001b[1;31m---------------------------------------------------------------------------\u001b[0m",
      "\u001b[1;31mTypeError\u001b[0m                                 Traceback (most recent call last)",
      "\u001b[1;32m<ipython-input-4-6c180da64c59>\u001b[0m in \u001b[0;36m<module>\u001b[1;34m\u001b[0m\n\u001b[1;32m----> 1\u001b[1;33m \u001b[0mstartprobPrior\u001b[0m\u001b[1;33m,\u001b[0m \u001b[0mtransmatPrior\u001b[0m \u001b[1;33m=\u001b[0m \u001b[0minitByBakis\u001b[0m\u001b[1;33m(\u001b[0m\u001b[0mnStates\u001b[0m \u001b[1;33m=\u001b[0m \u001b[1;36m5\u001b[0m\u001b[1;33m,\u001b[0m \u001b[0mbakisLevel\u001b[0m \u001b[1;33m=\u001b[0m \u001b[1;36m2\u001b[0m\u001b[1;33m)\u001b[0m\u001b[1;33m\u001b[0m\u001b[1;33m\u001b[0m\u001b[0m\n\u001b[0m",
      "\u001b[1;31mTypeError\u001b[0m: initByBakis() missing 1 required positional argument: 'self'"
     ]
    }
   ],
   "source": [
    "startprobPrior, transmatPrior = initByBakis(nStates = 5, bakisLevel = 2)"
   ]
  }
 ],
 "metadata": {
  "kernelspec": {
   "display_name": "Python 3",
   "language": "python",
   "name": "python3"
  },
  "language_info": {
   "codemirror_mode": {
    "name": "ipython",
    "version": 3
   },
   "file_extension": ".py",
   "mimetype": "text/x-python",
   "name": "python",
   "nbconvert_exporter": "python",
   "pygments_lexer": "ipython3",
   "version": "3.7.6"
  }
 },
 "nbformat": 4,
 "nbformat_minor": 4
}
