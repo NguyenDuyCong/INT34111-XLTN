{
 "cells": [
  {
   "cell_type": "code",
   "execution_count": 1,
   "metadata": {},
   "outputs": [],
   "source": [
    "import librosa\n",
    "import numpy as np\n",
    "import os\n",
    "import math\n",
    "from sklearn.cluster import KMeans\n",
    "import hmmlearn.hmm"
   ]
  },
  {
   "cell_type": "code",
   "execution_count": 10,
   "metadata": {},
   "outputs": [],
   "source": [
    "def get_mfcc(file_path):\n",
    "    y, sr = librosa.load(file_path) # read .wav file\n",
    "    hop_length = math.floor(sr*0.010) # 10ms hop\n",
    "    win_length = math.floor(sr*0.025) # 25ms frame\n",
    "    # mfcc is 12 x T matrix\n",
    "    mfcc = librosa.feature.mfcc(\n",
    "        y, sr, n_mfcc=12, n_fft=1024,\n",
    "        hop_length=hop_length, win_length=win_length)\n",
    "    # substract mean from mfcc --> normalize mfcc\n",
    "    mfcc = mfcc - np.mean(mfcc, axis=1).reshape((-1,1)) \n",
    "    # energy feature\n",
    "    rms = librosa.feature.rms(y, hop_length=hop_length)\n",
    "    frame_feature = np.concatenate([mfcc, rms], axis=0)\n",
    "    # delta feature 1st order and 2nd order\n",
    "    delta1 = librosa.feature.delta(frame_feature, order=1, mode='nearest')\n",
    "    delta2 = librosa.feature.delta(frame_feature, order=2, mode='nearest')\n",
    "    # X is 39 x T\n",
    "    X = np.concatenate([frame_feature, delta1, delta2], axis=0) # O^r\n",
    "    # return T x 39 (transpose of X)\n",
    "    return X.T # hmmlearn use T x N matrix"
   ]
  },
  {
   "cell_type": "code",
   "execution_count": 11,
   "metadata": {},
   "outputs": [
    {
     "data": {
      "text/plain": [
       "(17, 39)"
      ]
     },
     "execution_count": 11,
     "metadata": {},
     "output_type": "execute_result"
    }
   ],
   "source": [
    "mfcc = get_mfcc(\"./data/duong/17.wav\")\n",
    "mfcc.shape"
   ]
  },
  {
   "cell_type": "code",
   "execution_count": 3,
   "metadata": {},
   "outputs": [],
   "source": [
    "def get_class_data(data_dir):\n",
    "    files = os.listdir(data_dir)\n",
    "    mfcc = [get_mfcc(os.path.join(data_dir,f)) for f in files if f.endswith(\".wav\")]\n",
    "    return mfcc"
   ]
  },
  {
   "cell_type": "code",
   "execution_count": 4,
   "metadata": {},
   "outputs": [],
   "source": [
    "def clustering(X, n_clusters=10):\n",
    "    kmeans = KMeans(n_clusters=n_clusters, n_init=50, random_state=0, verbose=0)\n",
    "    kmeans.fit(X)\n",
    "    print(\"centers\", kmeans.cluster_centers_.shape)\n",
    "    return kmeans  "
   ]
  },
  {
   "cell_type": "code",
   "execution_count": 5,
   "metadata": {},
   "outputs": [
    {
     "name": "stdout",
     "output_type": "stream",
     "text": [
      "Load hai dataset\n",
      "Load tien dataset\n",
      "Load duong dataset\n",
      "Load y_te dataset\n",
      "Load benh_nhan dataset\n",
      "Load test_hai dataset\n",
      "Load test_tien dataset\n",
      "Load test_duong dataset\n",
      "Load test_y_te dataset\n",
      "Load test_benh_nhan dataset\n",
      "vectors (15520, 39)\n",
      "centers (10, 39)\n",
      "centers (10, 39)\n"
     ]
    }
   ],
   "source": [
    "class_names = [\"hai\", \"tien\", \"duong\", \"y_te\", \"benh_nhan\", \"test_hai\", \"test_tien\", \"test_duong\", \"test_y_te\", \"test_benh_nhan\"]\n",
    "dataset = {}\n",
    "for cname in class_names:\n",
    "    print(f\"Load {cname} dataset\")\n",
    "    dataset[cname] = get_class_data(os.path.join(\"data\", cname))\n",
    "\n",
    "# Get all vectors in the datasets\n",
    "all_vectors = np.concatenate([np.concatenate(v, axis=0) for k, v in dataset.items()], axis=0)\n",
    "print(\"vectors\", all_vectors.shape)\n",
    "# Run K-Means algorithm to get clusters\n",
    "kmeans = clustering(all_vectors)\n",
    "print(\"centers\", kmeans.cluster_centers_.shape)\n"
   ]
  },
  {
   "cell_type": "code",
   "execution_count": 8,
   "metadata": {},
   "outputs": [],
   "source": [
    "# dataset"
   ]
  },
  {
   "cell_type": "code",
   "execution_count": null,
   "metadata": {},
   "outputs": [],
   "source": [
    "\n",
    "nComp = 5\n",
    "startprobPrior,transmatPrior = initByBakis(nComp=nComp,bakisLevel=3)\n",
    "hmm = hmmlearn.hmm.GMMHMM(\n",
    "    n_components = nComp, n_mix = 2, n_iter = 1000,verbose= True,\n",
    "    params='mctw',\n",
    "    init_params='mst',\n",
    "    startprob_prior = startprobPrior,\n",
    "    transmat_prior = transmatPrior\n",
    ")\n",
    "\n",
    "if cname[:4] != 'test':\n",
    "    X = np.concatenate(dataset[cname])\n",
    "    lengths = list([len(x) for x in dataset[cname]])\n",
    "    print(\"training class\", cname)\n",
    "    print(X.shape, lengths, len(lengths))\n",
    "    hmm.fit(X)\n",
    "    models[cname] = hmm"
   ]
  },
  {
   "cell_type": "code",
   "execution_count": 9,
   "metadata": {},
   "outputs": [
    {
     "name": "stdout",
     "output_type": "stream",
     "text": [
      "training class y_te\n",
      "(4386, 39) [32, 44, 37, 50, 39, 44, 50, 39, 43, 63, 40, 62, 41, 47, 42, 37, 32, 44, 37, 50, 42, 49, 31, 46, 45, 34, 64, 58, 49, 72, 60, 59, 58, 39, 37, 49, 49, 39, 44, 50, 39, 60, 56, 52, 44, 61, 54, 39, 40, 76, 63, 37, 35, 51, 42, 41, 49, 41, 58, 59, 57, 38, 44, 53, 46, 54, 50, 46, 38, 50, 45, 47, 55, 57, 43, 38, 44, 35, 41, 58, 53, 38, 51, 61, 57, 48, 47, 63, 49, 34, 59, 43] 92\n"
     ]
    },
    {
     "name": "stderr",
     "output_type": "stream",
     "text": [
      "         1     -412554.4298             +nan\n"
     ]
    },
    {
     "name": "stdout",
     "output_type": "stream",
     "text": [
      "Training done\n"
     ]
    },
    {
     "name": "stderr",
     "output_type": "stream",
     "text": [
      "         2     -464640.0248      -52085.5950\n"
     ]
    }
   ],
   "source": [
    "models = {}\n",
    "cname = \"y_te\"\n",
    "class_vectors = dataset[cname]\n",
    "# convert all vectors to the cluster index\n",
    "# dataset['one'] = [O^1, ... O^R]\n",
    "# O^r = (c1, c2, ... ct, ... cT)\n",
    "# O^r size T x 1\n",
    "# dataset[cname] = list([kmeans.predict(v).reshape(-1,1) for v in dataset[cname]])\n",
    "hmm = hmmlearn.hmm.GMMHMM(\n",
    "    n_components=9, random_state=0, n_iter=1000, verbose=True, \n",
    "    params='mctw', init_params='mc',\n",
    "#     startprob_prior=np.array([0.7,0.2,0.1,0.0,0.0,0.0,0.0,0.0,0.0]),\n",
    "    transmat_prior=np.array([\n",
    "        [0.7,0.2,0.1,0.0,0.0,0.0,0.0,0.0,0.0],\n",
    "        [0.0,0.7,0.2,0.1,0.0,0.0,0.0,0.0,0.0],\n",
    "        [0.0,0.0,0.7,0.2,0.1,0.0,0.0,0.0,0.0],\n",
    "        [0.0,0.0,0.0,0.7,0.2,0.1,0.0,0.0,0.0],\n",
    "        [0.0,0.0,0.0,0.0,0.7,0.2,0.1,0.0,0.0],\n",
    "        [0.0,0.0,0.0,0.0,0.0,0.7,0.2,0.1,0.0],\n",
    "        [0.0,0.0,0.0,0.0,0.0,0.0,0.7,0.2,0.1],\n",
    "        [0.0,0.0,0.0,0.0,0.0,0.0,0.0,0.7,0.3],\n",
    "        [0.0,0.0,0.0,0.0,0.0,0.0,0.0,0.0,0.1]\n",
    "    ]),\n",
    ")\n",
    "if cname[:4] != 'test':\n",
    "    X = np.concatenate(dataset[cname])\n",
    "    lengths = list([len(x) for x in dataset[cname]])\n",
    "    print(\"training class\", cname)\n",
    "    print(X.shape, lengths, len(lengths))\n",
    "    hmm.fit(X, lengths=lengths)\n",
    "    models[cname] = hmm\n",
    "print(\"Training done\")"
   ]
  },
  {
   "cell_type": "code",
   "execution_count": 17,
   "metadata": {},
   "outputs": [
    {
     "name": "stdout",
     "output_type": "stream",
     "text": [
      "training class benh_nhan\n",
      "(4146, 39) [51, 39, 41, 47, 41, 65, 39, 52, 43, 48, 59, 68, 38, 50, 32, 40, 66, 50, 44, 41, 102, 44, 38, 49, 56, 44, 48, 33, 35, 54, 37, 38, 58, 32, 42, 61, 51, 47, 49, 40, 52, 31, 62, 56, 47, 35, 36, 58, 49, 39, 35, 40, 36, 42, 32, 34, 49, 53, 42, 40, 39, 45, 39, 40, 54, 50, 40, 58, 37, 46, 41, 33, 27, 27, 50, 45, 50, 52, 35, 45, 56, 37, 42, 65, 55, 42, 50, 37, 37, 45, 47] 91\n"
     ]
    },
    {
     "name": "stderr",
     "output_type": "stream",
     "text": [
      "         1     -396905.1104             +nan\n"
     ]
    },
    {
     "name": "stdout",
     "output_type": "stream",
     "text": [
      "Training done\n"
     ]
    },
    {
     "name": "stderr",
     "output_type": "stream",
     "text": [
      "         2     -457582.2685      -60677.1581\n"
     ]
    }
   ],
   "source": [
    "\n",
    "cname = \"benh_nhan\"\n",
    "class_vectors = dataset[cname]\n",
    "# convert all vectors to the cluster index\n",
    "# dataset['one'] = [O^1, ... O^R]\n",
    "# O^r = (c1, c2, ... ct, ... cT)\n",
    "# O^r size T x 1\n",
    "# dataset[cname] = list([kmeans.predict(v).reshape(-1,1) for v in dataset[cname]])\n",
    "hmm = hmmlearn.hmm.GMMHMM(\n",
    "    n_components=24, random_state=0, n_iter=1000, verbose=True, \n",
    "    params='mctw', init_params='mc',\n",
    "    startprob_prior=np.array([0.7,0.2,0.1,0.0,0.0,0.0,0.0,0.0,0.0,0.0,0.0,0.0,0.0,0.0,0.0,0.0,0.0,0.0,0.0,0.0,0.0,0.0,0.0,0.0]),\n",
    "    transmat_prior=np.array([\n",
    "        [0.7,0.2,0.1,0.0,0.0,0.0,0.0,0.0,0.0,0.0,0.0,0.0,0.0,0.0,0.0,0.0,0.0,0.0,0.0,0.0,0.0,0.0,0.0,0.0],\n",
    "        [0.0,0.7,0.2,0.1,0.0,0.0,0.0,0.0,0.0,0.0,0.0,0.0,0.0,0.0,0.0,0.0,0.0,0.0,0.0,0.0,0.0,0.0,0.0,0.0],\n",
    "        [0.0,0.0,0.7,0.2,0.1,0.0,0.0,0.0,0.0,0.0,0.0,0.0,0.0,0.0,0.0,0.0,0.0,0.0,0.0,0.0,0.0,0.0,0.0,0.0],\n",
    "        [0.0,0.0,0.0,0.7,0.2,0.1,0.0,0.0,0.0,0.0,0.0,0.0,0.0,0.0,0.0,0.0,0.0,0.0,0.0,0.0,0.0,0.0,0.0,0.0],\n",
    "        [0.0,0.0,0.0,0.0,0.7,0.2,0.1,0.0,0.0,0.0,0.0,0.0,0.0,0.0,0.0,0.0,0.0,0.0,0.0,0.0,0.0,0.0,0.0,0.0],\n",
    "        [0.0,0.0,0.0,0.0,0.0,0.7,0.2,0.1,0.0,0.0,0.0,0.0,0.0,0.0,0.0,0.0,0.0,0.0,0.0,0.0,0.0,0.0,0.0,0.0],\n",
    "        [0.0,0.0,0.0,0.0,0.0,0.0,0.7,0.2,0.1,0.0,0.0,0.0,0.0,0.0,0.0,0.0,0.0,0.0,0.0,0.0,0.0,0.0,0.0,0.0],\n",
    "        [0.0,0.0,0.0,0.0,0.0,0.0,0.0,0.7,0.2,0.1,0.0,0.0,0.0,0.0,0.0,0.0,0.0,0.0,0.0,0.0,0.0,0.0,0.0,0.0],\n",
    "        [0.0,0.0,0.0,0.0,0.0,0.0,0.0,0.0,0.7,0.2,0.1,0.0,0.0,0.0,0.0,0.0,0.0,0.0,0.0,0.0,0.0,0.0,0.0,0.0],\n",
    "        [0.0,0.0,0.0,0.0,0.0,0.0,0.0,0.0,0.0,0.7,0.2,0.1,0.0,0.0,0.0,0.0,0.0,0.0,0.0,0.0,0.0,0.0,0.0,0.0],\n",
    "        [0.0,0.0,0.0,0.0,0.0,0.0,0.0,0.0,0.0,0.0,0.7,0.2,0.1,0.0,0.0,0.0,0.0,0.0,0.0,0.0,0.0,0.0,0.0,0.0],\n",
    "        [0.0,0.0,0.0,0.0,0.0,0.0,0.0,0.0,0.0,0.0,0.0,0.7,0.2,0.1,0.0,0.0,0.0,0.0,0.0,0.0,0.0,0.0,0.0,0.0],\n",
    "        [0.0,0.0,0.0,0.0,0.0,0.0,0.0,0.0,0.0,0.0,0.0,0.0,0.7,0.2,0.1,0.0,0.0,0.0,0.0,0.0,0.0,0.0,0.0,0.0],\n",
    "        [0.0,0.0,0.0,0.0,0.0,0.0,0.0,0.0,0.0,0.0,0.0,0.0,0.0,0.7,0.2,0.1,0.0,0.0,0.0,0.0,0.0,0.0,0.0,0.0],\n",
    "        [0.0,0.0,0.0,0.0,0.0,0.0,0.0,0.0,0.0,0.0,0.0,0.0,0.0,0.0,0.7,0.2,0.1,0.0,0.0,0.0,0.0,0.0,0.0,0.0],\n",
    "        [0.0,0.0,0.0,0.0,0.0,0.0,0.0,0.0,0.0,0.0,0.0,0.0,0.0,0.0,0.0,0.7,0.2,0.1,0.0,0.0,0.0,0.0,0.0,0.0],\n",
    "        [0.0,0.0,0.0,0.0,0.0,0.0,0.0,0.0,0.0,0.0,0.0,0.0,0.0,0.0,0.0,0.0,0.7,0.2,0.1,0.0,0.0,0.0,0.0,0.0],\n",
    "        [0.0,0.0,0.0,0.0,0.0,0.0,0.0,0.0,0.0,0.0,0.0,0.0,0.0,0.0,0.0,0.0,0.0,0.7,0.2,0.1,0.0,0.0,0.0,0.0],\n",
    "        [0.0,0.0,0.0,0.0,0.0,0.0,0.0,0.0,0.0,0.0,0.0,0.0,0.0,0.0,0.0,0.0,0.0,0.0,0.7,0.2,0.1,0.0,0.0,0.0],\n",
    "        [0.0,0.0,0.0,0.0,0.0,0.0,0.0,0.0,0.0,0.0,0.0,0.0,0.0,0.0,0.0,0.0,0.0,0.0,0.0,0.7,0.2,0.1,0.0,0.0],\n",
    "        [0.0,0.0,0.0,0.0,0.0,0.0,0.0,0.0,0.0,0.0,0.0,0.0,0.0,0.0,0.0,0.0,0.0,0.0,0.0,0.0,0.7,0.2,0.1,0.0],\n",
    "        [0.0,0.0,0.0,0.0,0.0,0.0,0.0,0.0,0.0,0.0,0.0,0.0,0.0,0.0,0.0,0.0,0.0,0.0,0.0,0.0,0.0,0.7,0.2,0.1],\n",
    "        [0.0,0.0,0.0,0.0,0.0,0.0,0.0,0.0,0.0,0.0,0.0,0.0,0.0,0.0,0.0,0.0,0.0,0.0,0.0,0.0,0.0,0.0,0.7,0.3],\n",
    "        [0.0,0.0,0.0,0.0,0.0,0.0,0.0,0.0,0.0,0.0,0.0,0.0,0.0,0.0,0.0,0.0,0.0,0.0,0.0,0.0,0.0,0.0,0.0,1.0],\n",
    "    ]),\n",
    ")\n",
    "if cname[:4] != 'test':\n",
    "    X = np.concatenate(dataset[cname])\n",
    "    lengths = list([len(x) for x in dataset[cname]])\n",
    "    print(\"training class\", cname)\n",
    "    print(X.shape, lengths, len(lengths))\n",
    "    hmm.fit(X, lengths=lengths)\n",
    "    models[cname] = hmm\n",
    "print(\"Training done\")"
   ]
  },
  {
   "cell_type": "code",
   "execution_count": null,
   "metadata": {},
   "outputs": [],
   "source": []
  },
  {
   "cell_type": "code",
   "execution_count": 18,
   "metadata": {},
   "outputs": [
    {
     "name": "stdout",
     "output_type": "stream",
     "text": [
      "Testing\n",
      "test {'y_te': -150014.68885810464, 'benh_nhan': -10841.076310580722} benh_nhan\n",
      "test {'y_te': -92737.2563845418, 'benh_nhan': -9247.665576321784} benh_nhan\n",
      "test {'y_te': -7273.872838340847, 'benh_nhan': -6970.376951160433} benh_nhan\n",
      "test {'y_te': -10383.555034759445, 'benh_nhan': -11772.003397326069} y_te\n",
      "test {'y_te': -9647.008489812926, 'benh_nhan': -9167.781293035458} benh_nhan\n",
      "test {'y_te': -126843.21669608151, 'benh_nhan': -10603.959848476808} benh_nhan\n",
      "test {'y_te': -76261.23182289005, 'benh_nhan': -6812.777440559161} benh_nhan\n",
      "test {'y_te': -67581.74704744958, 'benh_nhan': -12275.530625002462} benh_nhan\n",
      "test {'y_te': -52372.34217179058, 'benh_nhan': -10372.79182015253} benh_nhan\n",
      "test {'y_te': -546296.0783689052, 'benh_nhan': -30500.010250575524} benh_nhan\n",
      "test {'y_te': -640748.3758828251, 'benh_nhan': -34157.086993629826} benh_nhan\n",
      "test {'y_te': -25874.099294522664, 'benh_nhan': -9918.211408731357} benh_nhan\n",
      "test {'y_te': -52498.25998030749, 'benh_nhan': -9473.878339195615} benh_nhan\n",
      "test {'y_te': -29969.294925527367, 'benh_nhan': -12239.067955072152} benh_nhan\n",
      "test {'y_te': -47525.700498860686, 'benh_nhan': -9123.569379251694} benh_nhan\n",
      "test {'y_te': -52548.64536164732, 'benh_nhan': -9832.60034983454} benh_nhan\n",
      "test {'y_te': -33020.94256021834, 'benh_nhan': -12087.45631021573} benh_nhan\n",
      "test {'y_te': -48924.99591892896, 'benh_nhan': -10811.363049113304} benh_nhan\n",
      "test {'y_te': -60914.93488580523, 'benh_nhan': -11560.273727231226} benh_nhan\n",
      "test {'y_te': -17612.329666066395, 'benh_nhan': -6760.595967215421} benh_nhan\n",
      "test {'y_te': -30455.99955124049, 'benh_nhan': -18066.618312157574} benh_nhan\n",
      "test {'y_te': -17766.347616189934, 'benh_nhan': -7387.19345319729} benh_nhan\n",
      "test {'y_te': -57971.96777742553, 'benh_nhan': -10377.608127361913} benh_nhan\n",
      "test {'y_te': -17535.146981277816, 'benh_nhan': -11294.070839272921} benh_nhan\n",
      "test {'y_te': -19292.376080255013, 'benh_nhan': -11794.275424863625} benh_nhan\n",
      "test {'y_te': -111884.95706241777, 'benh_nhan': -9614.187952073195} benh_nhan\n",
      "test {'y_te': -109910.52243203708, 'benh_nhan': -9002.49079181198} benh_nhan\n",
      "test {'y_te': -78079.24350163277, 'benh_nhan': -6872.248381785626} benh_nhan\n",
      "test {'y_te': -72530.08228968838, 'benh_nhan': -7498.292854978186} benh_nhan\n",
      "test {'y_te': -78978.1196150629, 'benh_nhan': -8110.974003404999} benh_nhan\n",
      "test {'y_te': -92504.65874103474, 'benh_nhan': -8245.801012531305} benh_nhan\n",
      "test {'y_te': -80683.88370906061, 'benh_nhan': -8143.125239735515} benh_nhan\n",
      "test {'y_te': -200708.19738780192, 'benh_nhan': -12913.405631295427} benh_nhan\n",
      "test {'y_te': -702300.5270227971, 'benh_nhan': -11982.151533055847} benh_nhan\n",
      "test {'y_te': -827703.2123924536, 'benh_nhan': -16300.369375936118} benh_nhan\n",
      "test {'y_te': -716406.4924531756, 'benh_nhan': -18739.61375126711} benh_nhan\n",
      "test {'y_te': -1041147.4965352059, 'benh_nhan': -18198.990773004516} benh_nhan\n",
      "test {'y_te': -878932.6841094998, 'benh_nhan': -17635.465062134095} benh_nhan\n",
      "test {'y_te': -841294.512820113, 'benh_nhan': -20856.058262836406} benh_nhan\n",
      "test {'y_te': -611199.3452931258, 'benh_nhan': -14617.597451022768} benh_nhan\n",
      "test {'y_te': -523294.81440652703, 'benh_nhan': -16349.987980800888} benh_nhan\n",
      "test {'y_te': -666303.339052276, 'benh_nhan': -12131.468447723424} benh_nhan\n",
      "test {'y_te': -493444.4745984779, 'benh_nhan': -16514.931213888998} benh_nhan\n",
      "test {'y_te': -719711.377884177, 'benh_nhan': -19278.02117398749} benh_nhan\n",
      "test {'y_te': -809134.4601020998, 'benh_nhan': -16012.987510380943} benh_nhan\n",
      "test {'y_te': -552813.2587282672, 'benh_nhan': -14406.49627275007} benh_nhan\n",
      "test {'y_te': -481343.2202669025, 'benh_nhan': -13304.17619333394} benh_nhan\n",
      "test {'y_te': -1018806.4691962522, 'benh_nhan': -21832.801918089965} benh_nhan\n",
      "test {'y_te': -467892.08079778904, 'benh_nhan': -14947.94607296091} benh_nhan\n",
      "test {'y_te': -683981.9299548974, 'benh_nhan': -16294.228356357336} benh_nhan\n",
      "test {'y_te': -590027.5797437683, 'benh_nhan': -11163.050977916302} benh_nhan\n",
      "test {'y_te': -666595.5563915208, 'benh_nhan': -12592.276702342102} benh_nhan\n",
      "test {'y_te': -790057.0957894614, 'benh_nhan': -16251.353897091121} benh_nhan\n",
      "test {'y_te': -596354.4557965074, 'benh_nhan': -14035.516580776339} benh_nhan\n",
      "test {'y_te': -644988.9178446896, 'benh_nhan': -10401.28108869103} benh_nhan\n",
      "test {'y_te': -672870.1837513574, 'benh_nhan': -13375.934982826453} benh_nhan\n",
      "test {'y_te': -758840.4768322373, 'benh_nhan': -17029.24169928399} benh_nhan\n",
      "test {'y_te': -10482.099510811277, 'benh_nhan': -11718.512460741793} y_te\n",
      "test {'y_te': -85176.44436927003, 'benh_nhan': -15818.048690343965} benh_nhan\n",
      "test {'y_te': -129870.87941228275, 'benh_nhan': -12174.10378776554} benh_nhan\n",
      "test {'y_te': -371070.0122513409, 'benh_nhan': -16991.01066558495} benh_nhan\n",
      "test {'y_te': -71221.11604358284, 'benh_nhan': -15985.298345453883} benh_nhan\n",
      "test {'y_te': -135423.13279232866, 'benh_nhan': -14405.334832147602} benh_nhan\n",
      "test {'y_te': -266273.8942947268, 'benh_nhan': -17750.853022148338} benh_nhan\n",
      "test {'y_te': -334310.7590663216, 'benh_nhan': -23087.51353212698} benh_nhan\n",
      "test {'y_te': -379829.83224845794, 'benh_nhan': -20275.809678605794} benh_nhan\n",
      "test {'y_te': -525935.6723324051, 'benh_nhan': -16995.5187500587} benh_nhan\n",
      "test {'y_te': -225027.64019635262, 'benh_nhan': -17396.909061380884} benh_nhan\n",
      "test {'y_te': -207111.57564517952, 'benh_nhan': -14830.450693510491} benh_nhan\n",
      "test {'y_te': -166037.5255692718, 'benh_nhan': -17526.465368315323} benh_nhan\n",
      "test {'y_te': -69902.49238542994, 'benh_nhan': -16739.205607455755} benh_nhan\n",
      "test {'y_te': -379108.1940923385, 'benh_nhan': -18440.14888377892} benh_nhan\n",
      "test {'y_te': -493285.5452977443, 'benh_nhan': -13995.702363286971} benh_nhan\n",
      "test {'y_te': -129599.07291365734, 'benh_nhan': -10555.426039324942} benh_nhan\n",
      "test {'y_te': -244420.84601421971, 'benh_nhan': -18407.972463782917} benh_nhan\n",
      "test {'y_te': -488257.7238147346, 'benh_nhan': -21141.477371425262} benh_nhan\n",
      "test {'y_te': -193890.3409657865, 'benh_nhan': -20317.705344049577} benh_nhan\n",
      "test {'y_te': -16125.630255661668, 'benh_nhan': -13938.18215191003} benh_nhan\n",
      "test {'y_te': -6801.875311429665, 'benh_nhan': -7488.747609546464} y_te\n",
      "test {'y_te': -8975.043511803844, 'benh_nhan': -10209.332845858271} y_te\n",
      "test {'y_te': -6672.293780506613, 'benh_nhan': -9501.643943715073} y_te\n",
      "test {'y_te': -6388.096756069395, 'benh_nhan': -7319.396332514799} y_te\n",
      "test {'y_te': -6383.731247839131, 'benh_nhan': -7251.308173305224} y_te\n",
      "test {'y_te': -13042.078261053433, 'benh_nhan': -12339.142570408574} benh_nhan\n",
      "test {'y_te': -8037.487428564636, 'benh_nhan': -9467.243638874561} y_te\n",
      "test {'y_te': -7037.8826124258685, 'benh_nhan': -6949.470476587953} benh_nhan\n",
      "test {'y_te': -8531.59307699283, 'benh_nhan': -9931.668850440092} y_te\n",
      "test {'y_te': -35268.65935364833, 'benh_nhan': -7761.16213189186} benh_nhan\n",
      "test {'y_te': -33975.64820402701, 'benh_nhan': -6518.663673269067} benh_nhan\n",
      "test {'y_te': -65688.01765255017, 'benh_nhan': -6959.586634394368} benh_nhan\n",
      "test {'y_te': -90888.16499992064, 'benh_nhan': -2153.0574350182173} benh_nhan\n"
     ]
    }
   ],
   "source": [
    "print(\"Testing\")\n",
    "for O in dataset[\"benh_nhan\"]:\n",
    "    score = {cname : model.score(O, [len(O)]) for cname, model in models.items() if cname[:4] != 'test' }\n",
    "    inverse = [(value, key) for key, value in score.items()]\n",
    "    pre = max(inverse)[1]\n",
    "    print(\"test\", score, pre)"
   ]
  }
 ],
 "metadata": {
  "kernelspec": {
   "display_name": "Python 3.7.6 64-bit",
   "language": "python",
   "name": "python37664bit0d02a1b1d65743c3aa043d986ab8b5ed"
  },
  "language_info": {
   "codemirror_mode": {
    "name": "ipython",
    "version": 3
   },
   "file_extension": ".py",
   "mimetype": "text/x-python",
   "name": "python",
   "nbconvert_exporter": "python",
   "pygments_lexer": "ipython3",
   "version": "3.7.6"
  }
 },
 "nbformat": 4,
 "nbformat_minor": 4
}
