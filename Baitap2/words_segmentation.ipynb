{
 "cells": [
  {
   "cell_type": "code",
   "execution_count": 1,
   "metadata": {},
   "outputs": [],
   "source": [
    "import os\n",
    "import pandas as pd\n",
    "import re\n",
    "import requests"
   ]
  },
  {
   "cell_type": "code",
   "execution_count": 58,
   "metadata": {},
   "outputs": [],
   "source": [
    "# df = pd.read_excel('assignment1/Điểm danh Tran Quoc Long - INT3411 1 - Xu ly tieng noi.xlsx', sheet_name='assignment2-data')\n",
    "# print(df.cell_value(0,0))"
   ]
  },
  {
   "cell_type": "code",
   "execution_count": 59,
   "metadata": {},
   "outputs": [],
   "source": [
    "# from pyvi import ViTokenizer\n",
    "\n",
    "# data = df['y-kien'][0]\n",
    "# data = data.split(\"\\n\")\n",
    "# data = data[1:]\n",
    "# # data = \"\\n\".join(data)\n",
    "# n = len(data)\n",
    "# i = 0\n",
    "# list_file = []\n",
    "# while i < n - 1:\n",
    "#     list_file.append([data[i], data[i + 1]])\n",
    "#     i += 2\n",
    "\n",
    "\n",
    "# for i in range(len(list_file)):\n",
    "#     list_file[i][1] = ViTokenizer.tokenize(list_file[i][1])\n",
    "\n",
    "# print(list_file)"
   ]
  },
  {
   "cell_type": "code",
   "execution_count": null,
   "metadata": {},
   "outputs": [],
   "source": []
  },
  {
   "cell_type": "code",
   "execution_count": 2,
   "metadata": {},
   "outputs": [],
   "source": [
    "from pyvi import ViTokenizer\n",
    "import xlrd\n",
    "\n",
    "workbook = xlrd.open_workbook('assignment1/Điểm danh Tran Quoc Long - INT3411 1 - Xu ly tieng noi.xlsx')\n",
    "worksheet = workbook.sheet_by_name('assignment2-data')"
   ]
  },
  {
   "cell_type": "code",
   "execution_count": 3,
   "metadata": {},
   "outputs": [],
   "source": [
    "def get_text_from_cell(row, col):\n",
    "    value = worksheet.cell_value(row, col)\n",
    "#     print(value)\n",
    "    if value is None:\n",
    "        return \"\"\n",
    "    value = value.split('\\n')\n",
    "    \n",
    "    data = \"\"\n",
    "    for i in range(2, len(value)):\n",
    "        if i % 2 == 0 and value[i] is not None:\n",
    "            data += value[i] + \"\\n\"\n",
    "    \n",
    "    return data"
   ]
  },
  {
   "cell_type": "code",
   "execution_count": 4,
   "metadata": {},
   "outputs": [],
   "source": [
    "value = \"\"\n",
    "for i in range(1, 38):\n",
    "    for j in range(3, 18):\n",
    "        value += get_text_from_cell(i, j)\n",
    "        \n",
    "value = ViTokenizer.tokenize(value)\n",
    "value = value.lower()\n",
    "# print (value)"
   ]
  },
  {
   "cell_type": "code",
   "execution_count": 159,
   "metadata": {},
   "outputs": [],
   "source": [
    "count_words = {}\n",
    "words = value.split(' ')\n",
    "# print(words)"
   ]
  },
  {
   "cell_type": "code",
   "execution_count": 160,
   "metadata": {},
   "outputs": [],
   "source": [
    "from string import punctuation\n",
    "stop_word = []\n",
    "with open(\"./vietnamese-stopwords-dash.txt\",encoding=\"utf-8\") as f :\n",
    "    text = f.read()\n",
    "    for word in text.split() :\n",
    "        stop_word.append(word)\n",
    "    f.close()\n",
    "    punc = list(punctuation)\n",
    "stop_word = stop_word + punc\n",
    "# print(stop_word)"
   ]
  },
  {
   "cell_type": "code",
   "execution_count": 161,
   "metadata": {},
   "outputs": [],
   "source": [
    "list_words = []\n",
    "for word in words:\n",
    "    if (word not in stop_word) :\n",
    "        if (\"_\" in word) or (word.isalpha() == True):\n",
    "            list_words.append(word)\n",
    "\n",
    "# print(list_words)"
   ]
  },
  {
   "cell_type": "code",
   "execution_count": 162,
   "metadata": {},
   "outputs": [],
   "source": [
    "for word in list_words:\n",
    "    if count_words.get(word) is None:\n",
    "        count_words[word] = 1\n",
    "    else:\n",
    "        count_words[word] += 1\n",
    "\n",
    "# print (count_words)"
   ]
  },
  {
   "cell_type": "code",
   "execution_count": 163,
   "metadata": {},
   "outputs": [],
   "source": [
    "list_term = count_words\n",
    "list_term = sorted(list_term.items(), key=lambda x:x[1], reverse=True)"
   ]
  },
  {
   "cell_type": "code",
   "execution_count": 164,
   "metadata": {},
   "outputs": [],
   "source": [
    "# print(list_term)"
   ]
  },
  {
   "cell_type": "code",
   "execution_count": 165,
   "metadata": {},
   "outputs": [
    {
     "name": "stdout",
     "output_type": "stream",
     "text": [
      "('covid', 630)\n",
      "('đi', 466)\n",
      "('hai', 422)\n",
      "('y_tế', 400)\n",
      "('xe', 371)\n",
      "('dịch', 344)\n",
      "('bệnh_nhân', 311)\n",
      "('cách_ly', 308)\n",
      "('ncov', 290)\n",
      "('ca', 288)\n",
      "('bệnh_viện', 280)\n",
      "('việt_nam', 278)\n",
      "('nhiễm', 261)\n",
      "('hàng', 244)\n",
      "('dân', 229)\n",
      "('nhân_viên', 221)\n",
      "('mỹ', 216)\n",
      "('học', 210)\n",
      "('hà_nội', 210)\n",
      "('đồng', 210)\n",
      "('wav', 210)\n",
      "('hoạt_động', 208)\n",
      "('triệu', 207)\n",
      "('đầu', 203)\n",
      "('dịch_bệnh', 195)\n",
      "('thành_phố', 184)\n",
      "('đường', 184)\n",
      "('tổ_chức', 181)\n",
      "('tuần', 179)\n",
      "('bác_sĩ', 178)\n",
      "('gia_đình', 175)\n",
      "('làm_việc', 170)\n",
      "('bệnh', 168)\n",
      "('tiền', 167)\n",
      "('chống', 163)\n",
      "('virus', 162)\n",
      "('xã_hội', 155)\n",
      "('tp', 155)\n",
      "('trường_hợp', 151)\n",
      "('công_ty', 151)\n",
      "('phòng', 149)\n",
      "('quốc_gia', 148)\n",
      "('thế_giới', 147)\n",
      "('tỉnh', 147)\n",
      "('sống', 146)\n",
      "('xét_nghiệm', 146)\n",
      "('giúp', 140)\n",
      "('trẻ', 139)\n",
      "('mẫu', 137)\n",
      "('mùa', 137)\n",
      "('hôm', 137)\n",
      "('chính_phủ', 135)\n",
      "('giá', 135)\n",
      "('rác', 135)\n",
      "('học_sinh', 134)\n",
      "('điều_trị', 130)\n",
      "('sản_xuất', 129)\n",
      "('nghiên_cứu', 127)\n",
      "('hãng', 125)\n",
      "('hcm', 124)\n",
      "('quyết_định', 122)\n",
      "('thông_tin', 120)\n",
      "('lây_nhiễm', 119)\n",
      "('đội', 119)\n",
      "('an_toàn', 117)\n",
      "('trung_quốc', 116)\n",
      "('ảnh_hưởng', 116)\n",
      "('trực_tuyến', 115)\n",
      "('sức_khỏe', 113)\n",
      "('dịch_vụ', 113)\n",
      "('ghi_nhận', 113)\n",
      "('ảnh', 113)\n",
      "('đại_học', 112)\n",
      "('khẩu_trang', 112)\n",
      "('cơ_sở', 111)\n",
      "('nghỉ', 111)\n",
      "('cộng_đồng', 111)\n",
      "('thị_trường', 110)\n",
      "('địa_phương', 107)\n",
      "('hệ_thống', 106)\n",
      "('dừng', 105)\n",
      "('hiện', 105)\n",
      "('biện_pháp', 103)\n",
      "('công_nghệ', 103)\n",
      "('tham_gia', 102)\n",
      "('phim', 101)\n",
      "('kết_quả', 100)\n",
      "('mạng', 99)\n",
      "('lao_động', 98)\n",
      "('giải', 98)\n",
      "('đóng_cửa', 97)\n",
      "('đông', 96)\n",
      "('hạn_chế', 94)\n",
      "('khả_năng', 94)\n",
      "('mua', 92)\n",
      "('bảo_vệ', 91)\n",
      "('ngành', 91)\n",
      "('đứng', 91)\n",
      "('gửi', 91)\n",
      "('nội_dung', 91)\n"
     ]
    }
   ],
   "source": [
    "for i in range(0, 100):\n",
    "    print(list_term[i])"
   ]
  },
  {
   "cell_type": "code",
   "execution_count": 1,
   "metadata": {},
   "outputs": [],
   "source": [
    "selected_words = ['hai', 'đường', 'tiền', 'y_tế', 'bệnh_nhân']"
   ]
  },
  {
   "cell_type": "code",
   "execution_count": 3,
   "metadata": {},
   "outputs": [],
   "source": [
    "def header_col(col):\n",
    "    return worksheet.cell_value(0, col)\n",
    "\n",
    "def get_mssv(row):\n",
    "    return str(worksheet.cell_value(row, 1))[:-2] + '_' + worksheet.cell_value(row, 2)"
   ]
  },
  {
   "cell_type": "code",
   "execution_count": 4,
   "metadata": {},
   "outputs": [],
   "source": [
    "def find_words_in_file(word):\n",
    "    list_file = []\n",
    "    for i in range(1, 38):\n",
    "        for j in range(3, 18):\n",
    "            data = worksheet.cell_value(i,j)\n",
    "            data = data.lower()\n",
    "            data = data.split('\\n')\n",
    "            for d in data:\n",
    "                if word in d:\n",
    "                    path = data[data.index(d) - 1] + ' | '\n",
    "                    path += header_col(j) + ' | '\n",
    "                    path += str(get_mssv(i))\n",
    "                    list_file.append(path)\n",
    "    return list_file"
   ]
  },
  {
   "cell_type": "code",
   "execution_count": 8,
   "metadata": {
    "scrolled": true
   },
   "outputs": [
    {
     "name": "stdout",
     "output_type": "stream",
     "text": [
      "tổng có 601 file\n",
      "17021194_Nguyễn Khả Quang Huy  :  43\n",
      "17021183_Hồ Đức Đạt  :  38\n",
      "17021203_Trần Văn Quân  :  35\n",
      "17020019_Lê Mai An  :  33\n",
      "17021200_Trần Phương Nam  :  32\n",
      "17021180_Phạm Lê Việt Anh  :  31\n",
      "17021182_Nguyễn Duy Công  :  31\n",
      "17020709_Dương Thu Hà  :  27\n",
      "17021187_Phạm Minh Đức  :  26\n",
      "17020646_Đỗ Đường Duy  :  26\n",
      "17021089_Trần Đức Trung  :  20\n",
      "17021186_Nguyễn Thị Phương Đông  :  19\n",
      "17020028_Đỗ Hoàng Khánh  :  19\n",
      "17021195_Nguyễn Văn Linh  :  19\n",
      "17021201_Nguyễn Trọng Nghĩa  :  19\n",
      "17020970_Nguyễn Văn Phương  :  19\n",
      "17021185_Nguyễn Tiến Đạt  :  18\n",
      "17021192_Nguyễn Đức Hùng  :  16\n",
      "17021197_Vương Bảo Long  :  15\n",
      "17020103_Nguyễn Hùng Quang  :  15\n",
      "17021059_Đặng Hữu Tiến  :  15\n",
      "17021311_Cao Minh Nhật  :  15\n",
      "16021398_Đinh Khánh Linh  :  14\n",
      "17020035_Nguyễn Nhật Minh  :  14\n",
      "17021184_Nguyễn Thành Đạt  :  12\n",
      "17021191_Nguyễn Huy Hoàng  :  10\n",
      "16022494_Nguyễn Chiến Thắng  :  10\n",
      "17021019_Phạm Sơn Thành  :  10\n",
      "out1.wav | so-hoa | 17021182_Nguyễn Duy Công\n",
      "out6.wav | tam-su | 17021182_Nguyễn Duy Công\n",
      "out8.wav | xe | 17021182_Nguyễn Duy Công\n",
      "out14.wav | xe | 17021182_Nguyễn Duy Công\n",
      "out13.wav | khoa-hoc | 17021182_Nguyễn Duy Công\n",
      "out5.wav | du-lich | 17021182_Nguyễn Duy Công\n",
      "out2.wav | doi-song | 17021182_Nguyễn Duy Công\n",
      "out10.wav | doi-song | 17021182_Nguyễn Duy Công\n",
      "out17.wav | doi-song | 17021182_Nguyễn Duy Công\n",
      "out23.wav | doi-song | 17021182_Nguyễn Duy Công\n",
      "out33.wav | doi-song | 17021182_Nguyễn Duy Công\n",
      "out34.wav | doi-song | 17021182_Nguyễn Duy Công\n",
      "out45.wav | doi-song | 17021182_Nguyễn Duy Công\n",
      "out59.wav | doi-song | 17021182_Nguyễn Duy Công\n",
      "out69.wav | doi-song | 17021182_Nguyễn Duy Công\n",
      "out73.wav | doi-song | 17021182_Nguyễn Duy Công\n",
      "out76.wav | doi-song | 17021182_Nguyễn Duy Công\n",
      "out88.wav | doi-song | 17021182_Nguyễn Duy Công\n",
      " | suc-khoe | 17021182_Nguyễn Duy Công\n",
      "out3.wav | suc-khoe | 17021182_Nguyễn Duy Công\n",
      "out5.wav | suc-khoe | 17021182_Nguyễn Duy Công\n",
      " | giao-duc | 17021182_Nguyễn Duy Công\n",
      "out26.wav | giao-duc | 17021182_Nguyễn Duy Công\n",
      " | phap-luat | 17021182_Nguyễn Duy Công\n",
      "out0.wav | phap-luat | 17021182_Nguyễn Duy Công\n",
      "out3.wav | phap-luat | 17021182_Nguyễn Duy Công\n",
      "out20.wav | the-thao | 17021182_Nguyễn Duy Công\n",
      "out28.wav | the-thao | 17021182_Nguyễn Duy Công\n",
      "out4.wav | giai-tri | 17021182_Nguyễn Duy Công\n",
      "out10.wav | giai-tri | 17021182_Nguyễn Duy Công\n",
      "out22.wav | giai-tri | 17021182_Nguyễn Duy Công\n"
     ]
    }
   ],
   "source": [
    "test = find_words_in_file('hai')\n",
    "print(\"tổng có {0} file\".format(len(test)))\n",
    "\n",
    "list_id = {}\n",
    "for t in test:\n",
    "    t = t.split(\"|\")[2].strip()\n",
    "#     t = t.split(\"_\")[0].strip()\n",
    "    if list_id.get(t) is None:\n",
    "        list_id[t] = 1\n",
    "    else:\n",
    "        list_id[t] += 1\n",
    "\n",
    "list_id = sorted(list_id.items(), key=lambda x:x[1], reverse=True)\n",
    "for k, v in list_id:\n",
    "    print(k, \" : \", v)\n",
    "\n",
    "find_file = \"17021182_Nguyễn Duy Công\"\n",
    "for t in test:\n",
    "    s = t.split(\"|\")[2].strip()\n",
    "    if s == find_file:\n",
    "        print(t)"
   ]
  }
 ],
 "metadata": {
  "kernelspec": {
   "display_name": "Python 3",
   "language": "python",
   "name": "python3"
  },
  "language_info": {
   "codemirror_mode": {
    "name": "ipython",
    "version": 3
   },
   "file_extension": ".py",
   "mimetype": "text/x-python",
   "name": "python",
   "nbconvert_exporter": "python",
   "pygments_lexer": "ipython3",
   "version": "3.7.6"
  }
 },
 "nbformat": 4,
 "nbformat_minor": 4
}
