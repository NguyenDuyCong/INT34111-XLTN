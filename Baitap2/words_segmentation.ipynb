{
 "cells": [
  {
   "cell_type": "code",
   "execution_count": 1,
   "metadata": {},
   "outputs": [],
   "source": [
    "import os\n",
    "import pandas as pd\n",
    "import re\n",
    "import requests"
   ]
  },
  {
   "cell_type": "code",
   "execution_count": 58,
   "metadata": {},
   "outputs": [],
   "source": [
    "# df = pd.read_excel('assignment1/Điểm danh Tran Quoc Long - INT3411 1 - Xu ly tieng noi.xlsx', sheet_name='assignment2-data')\n",
    "# print(df.cell_value(0,0))"
   ]
  },
  {
   "cell_type": "code",
   "execution_count": 59,
   "metadata": {},
   "outputs": [],
   "source": [
    "# from pyvi import ViTokenizer\n",
    "\n",
    "# data = df['y-kien'][0]\n",
    "# data = data.split(\"\\n\")\n",
    "# data = data[1:]\n",
    "# # data = \"\\n\".join(data)\n",
    "# n = len(data)\n",
    "# i = 0\n",
    "# list_file = []\n",
    "# while i < n - 1:\n",
    "#     list_file.append([data[i], data[i + 1]])\n",
    "#     i += 2\n",
    "\n",
    "\n",
    "# for i in range(len(list_file)):\n",
    "#     list_file[i][1] = ViTokenizer.tokenize(list_file[i][1])\n",
    "\n",
    "# print(list_file)"
   ]
  },
  {
   "cell_type": "code",
   "execution_count": null,
   "metadata": {},
   "outputs": [],
   "source": []
  },
  {
   "cell_type": "code",
   "execution_count": 158,
   "metadata": {},
   "outputs": [],
   "source": [
    "from pyvi import ViTokenizer\n",
    "import xlrd\n",
    "\n",
    "workbook = xlrd.open_workbook('assignment1/Điểm danh Tran Quoc Long - INT3411 1 - Xu ly tieng noi.xlsx')\n",
    "worksheet = workbook.sheet_by_name('assignment2-data')\n",
    "\n",
    "def get_text_from_cell(row, col):\n",
    "    value = worksheet.cell_value(row, col)\n",
    "#     print(value)\n",
    "    if value is None:\n",
    "        return \"\"\n",
    "    value = value.split('\\n')\n",
    "    \n",
    "    data = \"\"\n",
    "    for i in range(2, len(value)):\n",
    "        if i % 2 == 0 and value[i] is not None:\n",
    "            data += value[i] + \"\\n\"\n",
    "    \n",
    "    return data\n",
    "\n",
    "value = \"\"\n",
    "for i in range(1, 38):\n",
    "    for j in range(3, 18):\n",
    "        value += get_text_from_cell(i, j)\n",
    "        \n",
    "value = ViTokenizer.tokenize(value)\n",
    "value = value.lower()\n",
    "# print (value)"
   ]
  },
  {
   "cell_type": "code",
   "execution_count": 159,
   "metadata": {},
   "outputs": [],
   "source": [
    "count_words = {}\n",
    "words = value.split(' ')\n",
    "# print(words)"
   ]
  },
  {
   "cell_type": "code",
   "execution_count": 160,
   "metadata": {},
   "outputs": [],
   "source": [
    "from string import punctuation\n",
    "stop_word = []\n",
    "with open(\"./vietnamese-stopwords-dash.txt\",encoding=\"utf-8\") as f :\n",
    "    text = f.read()\n",
    "    for word in text.split() :\n",
    "        stop_word.append(word)\n",
    "    f.close()\n",
    "    punc = list(punctuation)\n",
    "stop_word = stop_word + punc\n",
    "# print(stop_word)"
   ]
  },
  {
   "cell_type": "code",
   "execution_count": 161,
   "metadata": {},
   "outputs": [],
   "source": [
    "list_words = []\n",
    "for word in words:\n",
    "    if (word not in stop_word) :\n",
    "        if (\"_\" in word) or (word.isalpha() == True):\n",
    "            list_words.append(word)\n",
    "\n",
    "# print(list_words)"
   ]
  },
  {
   "cell_type": "code",
   "execution_count": 162,
   "metadata": {},
   "outputs": [],
   "source": [
    "for word in list_words:\n",
    "    if count_words.get(word) is None:\n",
    "        count_words[word] = 1\n",
    "    else:\n",
    "        count_words[word] += 1\n",
    "\n",
    "# print (count_words)"
   ]
  },
  {
   "cell_type": "code",
   "execution_count": 163,
   "metadata": {},
   "outputs": [],
   "source": [
    "list_term = count_words\n",
    "list_term = sorted(list_term.items(), key=lambda x:x[1], reverse=True)"
   ]
  },
  {
   "cell_type": "code",
   "execution_count": 164,
   "metadata": {},
   "outputs": [],
   "source": [
    "# print(list_term)"
   ]
  },
  {
   "cell_type": "code",
   "execution_count": 165,
   "metadata": {},
   "outputs": [
    {
     "name": "stdout",
     "output_type": "stream",
     "text": [
      "('covid', 630)\n",
      "('đi', 466)\n",
      "('hai', 422)\n",
      "('y_tế', 400)\n",
      "('xe', 371)\n",
      "('dịch', 344)\n",
      "('bệnh_nhân', 311)\n",
      "('cách_ly', 308)\n",
      "('ncov', 290)\n",
      "('ca', 288)\n",
      "('bệnh_viện', 280)\n",
      "('việt_nam', 278)\n",
      "('nhiễm', 261)\n",
      "('hàng', 244)\n",
      "('dân', 229)\n",
      "('nhân_viên', 221)\n",
      "('mỹ', 216)\n",
      "('học', 210)\n",
      "('hà_nội', 210)\n",
      "('đồng', 210)\n",
      "('wav', 210)\n",
      "('hoạt_động', 208)\n",
      "('triệu', 207)\n",
      "('đầu', 203)\n",
      "('dịch_bệnh', 195)\n",
      "('thành_phố', 184)\n",
      "('đường', 184)\n",
      "('tổ_chức', 181)\n",
      "('tuần', 179)\n",
      "('bác_sĩ', 178)\n",
      "('gia_đình', 175)\n",
      "('làm_việc', 170)\n",
      "('bệnh', 168)\n",
      "('tiền', 167)\n",
      "('chống', 163)\n",
      "('virus', 162)\n",
      "('xã_hội', 155)\n",
      "('tp', 155)\n",
      "('trường_hợp', 151)\n",
      "('công_ty', 151)\n",
      "('phòng', 149)\n",
      "('quốc_gia', 148)\n",
      "('thế_giới', 147)\n",
      "('tỉnh', 147)\n",
      "('sống', 146)\n",
      "('xét_nghiệm', 146)\n",
      "('giúp', 140)\n",
      "('trẻ', 139)\n",
      "('mẫu', 137)\n",
      "('mùa', 137)\n",
      "('hôm', 137)\n",
      "('chính_phủ', 135)\n",
      "('giá', 135)\n",
      "('rác', 135)\n",
      "('học_sinh', 134)\n",
      "('điều_trị', 130)\n",
      "('sản_xuất', 129)\n",
      "('nghiên_cứu', 127)\n",
      "('hãng', 125)\n",
      "('hcm', 124)\n",
      "('quyết_định', 122)\n",
      "('thông_tin', 120)\n",
      "('lây_nhiễm', 119)\n",
      "('đội', 119)\n",
      "('an_toàn', 117)\n",
      "('trung_quốc', 116)\n",
      "('ảnh_hưởng', 116)\n",
      "('trực_tuyến', 115)\n",
      "('sức_khỏe', 113)\n",
      "('dịch_vụ', 113)\n",
      "('ghi_nhận', 113)\n",
      "('ảnh', 113)\n",
      "('đại_học', 112)\n",
      "('khẩu_trang', 112)\n",
      "('cơ_sở', 111)\n",
      "('nghỉ', 111)\n",
      "('cộng_đồng', 111)\n",
      "('thị_trường', 110)\n",
      "('địa_phương', 107)\n",
      "('hệ_thống', 106)\n",
      "('dừng', 105)\n",
      "('hiện', 105)\n",
      "('biện_pháp', 103)\n",
      "('công_nghệ', 103)\n",
      "('tham_gia', 102)\n",
      "('phim', 101)\n",
      "('kết_quả', 100)\n",
      "('mạng', 99)\n",
      "('lao_động', 98)\n",
      "('giải', 98)\n",
      "('đóng_cửa', 97)\n",
      "('đông', 96)\n",
      "('hạn_chế', 94)\n",
      "('khả_năng', 94)\n",
      "('mua', 92)\n",
      "('bảo_vệ', 91)\n",
      "('ngành', 91)\n",
      "('đứng', 91)\n",
      "('gửi', 91)\n",
      "('nội_dung', 91)\n"
     ]
    }
   ],
   "source": [
    "for i in range(0, 100):\n",
    "    print(list_term[i])"
   ]
  },
  {
   "cell_type": "code",
   "execution_count": 157,
   "metadata": {},
   "outputs": [],
   "source": [
    "selected_words = ['covid', 'đi', 'hai', 'y_tế', 'bệnh_nhân']"
   ]
  }
 ],
 "metadata": {
  "kernelspec": {
   "display_name": "Python 3",
   "language": "python",
   "name": "python3"
  },
  "language_info": {
   "codemirror_mode": {
    "name": "ipython",
    "version": 3
   },
   "file_extension": ".py",
   "mimetype": "text/x-python",
   "name": "python",
   "nbconvert_exporter": "python",
   "pygments_lexer": "ipython3",
   "version": "3.7.6"
  }
 },
 "nbformat": 4,
 "nbformat_minor": 4
}
